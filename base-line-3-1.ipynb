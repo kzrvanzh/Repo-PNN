{
 "cells": [
  {
   "cell_type": "markdown",
   "metadata": {
    "papermill": {
     "duration": 0.015343,
     "end_time": "2023-03-25T10:46:51.612955",
     "exception": false,
     "start_time": "2023-03-25T10:46:51.597612",
     "status": "completed"
    },
    "tags": []
   },
   "source": [
    "## Решение задачи регрессии с помощью нейронных сетей\n",
    "\n",
    "Определение стоимости недвижимости из набора данных [California Housing Data Set](https://developers.google.com/machine-learning/crash-course/california-housing-data-description).\n",
    "\n",
    "Учебный курс \"[Программирование глубоких нейронных сетей на Python](https://openedu.ru/course/urfu/PYDNN/)\"."
   ]
  },
  {
   "cell_type": "code",
   "execution_count": 1,
   "metadata": {
    "execution": {
     "iopub.execute_input": "2023-03-25T10:46:51.649048Z",
     "iopub.status.busy": "2023-03-25T10:46:51.648299Z",
     "iopub.status.idle": "2023-03-25T10:46:56.280063Z",
     "shell.execute_reply": "2023-03-25T10:46:56.279315Z",
     "shell.execute_reply.started": "2023-03-25T10:43:28.657544Z"
    },
    "papermill": {
     "duration": 4.653269,
     "end_time": "2023-03-25T10:46:56.280291",
     "exception": false,
     "start_time": "2023-03-25T10:46:51.627022",
     "status": "completed"
    },
    "tags": []
   },
   "outputs": [
    {
     "name": "stdout",
     "output_type": "stream",
     "text": [
      "/kaggle/input/dl-urfu-regression/sample_submission.csv\n",
      "/kaggle/input/dl-urfu-regression/train.csv\n",
      "/kaggle/input/dl-urfu-regression/test.csv\n"
     ]
    }
   ],
   "source": [
    "from tensorflow.keras.models import Sequential\n",
    "from tensorflow.keras.layers import Dense\n",
    "import pandas as pd\n",
    "import numpy as np\n",
    "import matplotlib.pyplot as plt\n",
    "%matplotlib inline \n",
    "\"\"\" посмотрим, какие файлы храняться в директории \"\"\"\n",
    "import os\n",
    "for dirname, _, filenames in os.walk('/kaggle/input/'):\n",
    "    for filename in filenames:\n",
    "        print(os.path.join(dirname, filename))"
   ]
  },
  {
   "cell_type": "markdown",
   "metadata": {
    "papermill": {
     "duration": 0.015758,
     "end_time": "2023-03-25T10:46:56.312742",
     "exception": false,
     "start_time": "2023-03-25T10:46:56.296984",
     "status": "completed"
    },
    "tags": []
   },
   "source": [
    "## Загружаем данные"
   ]
  },
  {
   "cell_type": "code",
   "execution_count": 2,
   "metadata": {
    "execution": {
     "iopub.execute_input": "2023-03-25T10:46:56.350073Z",
     "iopub.status.busy": "2023-03-25T10:46:56.349475Z",
     "iopub.status.idle": "2023-03-25T10:46:56.409130Z",
     "shell.execute_reply": "2023-03-25T10:46:56.408649Z",
     "shell.execute_reply.started": "2023-03-25T10:43:28.672136Z"
    },
    "papermill": {
     "duration": 0.080322,
     "end_time": "2023-03-25T10:46:56.409263",
     "exception": false,
     "start_time": "2023-03-25T10:46:56.328941",
     "status": "completed"
    },
    "tags": []
   },
   "outputs": [],
   "source": [
    "train_df = pd.read_csv('/kaggle/input/dl-urfu-regression/train.csv')\n",
    "test_df = pd.read_csv('/kaggle/input/dl-urfu-regression/test.csv')\n",
    "sample_submission = pd.read_csv('/kaggle/input/dl-urfu-regression/sample_submission.csv', index_col='id')"
   ]
  },
  {
   "cell_type": "markdown",
   "metadata": {
    "papermill": {
     "duration": 0.018292,
     "end_time": "2023-03-25T10:46:56.443365",
     "exception": false,
     "start_time": "2023-03-25T10:46:56.425073",
     "status": "completed"
    },
    "tags": []
   },
   "source": [
    "**Описание данных**\n",
    "\n",
    "California Housing содержит данные о средней стоимость домов в Калифорнии для квартала. Файл с данными содержит следующие столбцы:\n",
    "\n",
    "*   **longitude** - долгота квартала с недвижимостью.\n",
    "*   **latitude** - широта квартала с недвижимостью.\n",
    "*   **housing_median_age** - медиана возраста домов в квартале.\n",
    "*   **total_rooms** - общее колиичество комнат в квартале.\n",
    "*   **total_bedrooms** - общее количество спален в квартале.\n",
    "*   **population** - население квартала.\n",
    "*   **households** - количество \"домохозяйств\" в квартале (групп людей живущих вместе в одном доме. Как правило это семьи).\n",
    "*   **median_income** - медианный доход в квартале.\n",
    "*   **median_house_value** - медианная стоимость дома в квартале.\n",
    "\n"
   ]
  },
  {
   "cell_type": "code",
   "execution_count": 3,
   "metadata": {
    "execution": {
     "iopub.execute_input": "2023-03-25T10:46:56.489764Z",
     "iopub.status.busy": "2023-03-25T10:46:56.488717Z",
     "iopub.status.idle": "2023-03-25T10:46:56.502282Z",
     "shell.execute_reply": "2023-03-25T10:46:56.501778Z",
     "shell.execute_reply.started": "2023-03-25T10:43:28.703680Z"
    },
    "papermill": {
     "duration": 0.043127,
     "end_time": "2023-03-25T10:46:56.502461",
     "exception": false,
     "start_time": "2023-03-25T10:46:56.459334",
     "status": "completed"
    },
    "tags": []
   },
   "outputs": [
    {
     "data": {
      "text/html": [
       "<div>\n",
       "<style scoped>\n",
       "    .dataframe tbody tr th:only-of-type {\n",
       "        vertical-align: middle;\n",
       "    }\n",
       "\n",
       "    .dataframe tbody tr th {\n",
       "        vertical-align: top;\n",
       "    }\n",
       "\n",
       "    .dataframe thead th {\n",
       "        text-align: right;\n",
       "    }\n",
       "</style>\n",
       "<table border=\"1\" class=\"dataframe\">\n",
       "  <thead>\n",
       "    <tr style=\"text-align: right;\">\n",
       "      <th></th>\n",
       "      <th>longitude</th>\n",
       "      <th>latitude</th>\n",
       "      <th>housing_median_age</th>\n",
       "      <th>total_rooms</th>\n",
       "      <th>total_bedrooms</th>\n",
       "      <th>population</th>\n",
       "      <th>households</th>\n",
       "      <th>median_income</th>\n",
       "      <th>median_house_value</th>\n",
       "    </tr>\n",
       "  </thead>\n",
       "  <tbody>\n",
       "    <tr>\n",
       "      <th>9884</th>\n",
       "      <td>-122.05</td>\n",
       "      <td>37.54</td>\n",
       "      <td>25.0</td>\n",
       "      <td>4209.0</td>\n",
       "      <td>731.0</td>\n",
       "      <td>2568.0</td>\n",
       "      <td>703.0</td>\n",
       "      <td>5.2882</td>\n",
       "      <td>223100.0</td>\n",
       "    </tr>\n",
       "    <tr>\n",
       "      <th>14363</th>\n",
       "      <td>-117.70</td>\n",
       "      <td>35.60</td>\n",
       "      <td>16.0</td>\n",
       "      <td>2678.0</td>\n",
       "      <td>483.0</td>\n",
       "      <td>1473.0</td>\n",
       "      <td>487.0</td>\n",
       "      <td>3.8580</td>\n",
       "      <td>70200.0</td>\n",
       "    </tr>\n",
       "    <tr>\n",
       "      <th>5753</th>\n",
       "      <td>-119.81</td>\n",
       "      <td>36.73</td>\n",
       "      <td>47.0</td>\n",
       "      <td>1314.0</td>\n",
       "      <td>416.0</td>\n",
       "      <td>1155.0</td>\n",
       "      <td>326.0</td>\n",
       "      <td>1.3720</td>\n",
       "      <td>49600.0</td>\n",
       "    </tr>\n",
       "  </tbody>\n",
       "</table>\n",
       "</div>"
      ],
      "text/plain": [
       "       longitude  latitude  housing_median_age  total_rooms  total_bedrooms  \\\n",
       "9884     -122.05     37.54                25.0       4209.0           731.0   \n",
       "14363    -117.70     35.60                16.0       2678.0           483.0   \n",
       "5753     -119.81     36.73                47.0       1314.0           416.0   \n",
       "\n",
       "       population  households  median_income  median_house_value  \n",
       "9884       2568.0       703.0         5.2882            223100.0  \n",
       "14363      1473.0       487.0         3.8580             70200.0  \n",
       "5753       1155.0       326.0         1.3720             49600.0  "
      ]
     },
     "execution_count": 3,
     "metadata": {},
     "output_type": "execute_result"
    }
   ],
   "source": [
    "\"\"\"Смотрим на случайные 3 записи в нашем тренировочном наборе\"\"\"\n",
    "train_df.sample(3)"
   ]
  },
  {
   "cell_type": "code",
   "execution_count": 4,
   "metadata": {
    "execution": {
     "iopub.execute_input": "2023-03-25T10:46:56.552176Z",
     "iopub.status.busy": "2023-03-25T10:46:56.551304Z",
     "iopub.status.idle": "2023-03-25T10:46:56.554829Z",
     "shell.execute_reply": "2023-03-25T10:46:56.555437Z",
     "shell.execute_reply.started": "2023-03-25T10:43:28.721339Z"
    },
    "papermill": {
     "duration": 0.034074,
     "end_time": "2023-03-25T10:46:56.555599",
     "exception": false,
     "start_time": "2023-03-25T10:46:56.521525",
     "status": "completed"
    },
    "tags": []
   },
   "outputs": [
    {
     "data": {
      "text/html": [
       "<div>\n",
       "<style scoped>\n",
       "    .dataframe tbody tr th:only-of-type {\n",
       "        vertical-align: middle;\n",
       "    }\n",
       "\n",
       "    .dataframe tbody tr th {\n",
       "        vertical-align: top;\n",
       "    }\n",
       "\n",
       "    .dataframe thead th {\n",
       "        text-align: right;\n",
       "    }\n",
       "</style>\n",
       "<table border=\"1\" class=\"dataframe\">\n",
       "  <thead>\n",
       "    <tr style=\"text-align: right;\">\n",
       "      <th></th>\n",
       "      <th>longitude</th>\n",
       "      <th>latitude</th>\n",
       "      <th>housing_median_age</th>\n",
       "      <th>total_rooms</th>\n",
       "      <th>total_bedrooms</th>\n",
       "      <th>population</th>\n",
       "      <th>households</th>\n",
       "      <th>median_income</th>\n",
       "    </tr>\n",
       "  </thead>\n",
       "  <tbody>\n",
       "    <tr>\n",
       "      <th>79</th>\n",
       "      <td>-116.99</td>\n",
       "      <td>32.72</td>\n",
       "      <td>14.0</td>\n",
       "      <td>1771.0</td>\n",
       "      <td>301.0</td>\n",
       "      <td>1046.0</td>\n",
       "      <td>284.0</td>\n",
       "      <td>4.7750</td>\n",
       "    </tr>\n",
       "    <tr>\n",
       "      <th>2720</th>\n",
       "      <td>-118.05</td>\n",
       "      <td>33.95</td>\n",
       "      <td>33.0</td>\n",
       "      <td>1954.0</td>\n",
       "      <td>390.0</td>\n",
       "      <td>1600.0</td>\n",
       "      <td>376.0</td>\n",
       "      <td>3.6125</td>\n",
       "    </tr>\n",
       "    <tr>\n",
       "      <th>2693</th>\n",
       "      <td>-117.38</td>\n",
       "      <td>33.19</td>\n",
       "      <td>17.0</td>\n",
       "      <td>353.0</td>\n",
       "      <td>112.0</td>\n",
       "      <td>359.0</td>\n",
       "      <td>118.0</td>\n",
       "      <td>1.5625</td>\n",
       "    </tr>\n",
       "  </tbody>\n",
       "</table>\n",
       "</div>"
      ],
      "text/plain": [
       "      longitude  latitude  housing_median_age  total_rooms  total_bedrooms  \\\n",
       "79      -116.99     32.72                14.0       1771.0           301.0   \n",
       "2720    -118.05     33.95                33.0       1954.0           390.0   \n",
       "2693    -117.38     33.19                17.0        353.0           112.0   \n",
       "\n",
       "      population  households  median_income  \n",
       "79        1046.0       284.0         4.7750  \n",
       "2720      1600.0       376.0         3.6125  \n",
       "2693       359.0       118.0         1.5625  "
      ]
     },
     "execution_count": 4,
     "metadata": {},
     "output_type": "execute_result"
    }
   ],
   "source": [
    "\"\"\"Смотрим на случайные 3 записи в нашем тестовом наборе\"\"\"\n",
    "test_df.sample(3)"
   ]
  },
  {
   "cell_type": "code",
   "execution_count": 5,
   "metadata": {
    "execution": {
     "iopub.execute_input": "2023-03-25T10:46:56.597569Z",
     "iopub.status.busy": "2023-03-25T10:46:56.596881Z",
     "iopub.status.idle": "2023-03-25T10:46:56.603612Z",
     "shell.execute_reply": "2023-03-25T10:46:56.603027Z",
     "shell.execute_reply.started": "2023-03-25T10:43:28.746002Z"
    },
    "papermill": {
     "duration": 0.030149,
     "end_time": "2023-03-25T10:46:56.603753",
     "exception": false,
     "start_time": "2023-03-25T10:46:56.573604",
     "status": "completed"
    },
    "tags": []
   },
   "outputs": [
    {
     "data": {
      "text/html": [
       "<div>\n",
       "<style scoped>\n",
       "    .dataframe tbody tr th:only-of-type {\n",
       "        vertical-align: middle;\n",
       "    }\n",
       "\n",
       "    .dataframe tbody tr th {\n",
       "        vertical-align: top;\n",
       "    }\n",
       "\n",
       "    .dataframe thead th {\n",
       "        text-align: right;\n",
       "    }\n",
       "</style>\n",
       "<table border=\"1\" class=\"dataframe\">\n",
       "  <thead>\n",
       "    <tr style=\"text-align: right;\">\n",
       "      <th></th>\n",
       "      <th>median_house_value</th>\n",
       "    </tr>\n",
       "    <tr>\n",
       "      <th>id</th>\n",
       "      <th></th>\n",
       "    </tr>\n",
       "  </thead>\n",
       "  <tbody>\n",
       "    <tr>\n",
       "      <th>1635</th>\n",
       "      <td>0.1635</td>\n",
       "    </tr>\n",
       "    <tr>\n",
       "      <th>2772</th>\n",
       "      <td>0.2772</td>\n",
       "    </tr>\n",
       "    <tr>\n",
       "      <th>524</th>\n",
       "      <td>0.5240</td>\n",
       "    </tr>\n",
       "  </tbody>\n",
       "</table>\n",
       "</div>"
      ],
      "text/plain": [
       "      median_house_value\n",
       "id                      \n",
       "1635              0.1635\n",
       "2772              0.2772\n",
       "524               0.5240"
      ]
     },
     "execution_count": 5,
     "metadata": {},
     "output_type": "execute_result"
    }
   ],
   "source": [
    "\"\"\"Смотрим на случайные 3 записи в шаблоне для ответов\"\"\"\n",
    "sample_submission.sample(3)"
   ]
  },
  {
   "cell_type": "markdown",
   "metadata": {
    "papermill": {
     "duration": 0.017301,
     "end_time": "2023-03-25T10:46:56.639975",
     "exception": false,
     "start_time": "2023-03-25T10:46:56.622674",
     "status": "completed"
    },
    "tags": []
   },
   "source": [
    "## Постановка задачи регрессии\n",
    "\n",
    "Необходимо определить медианную стоимость дома в квартале, зная все остальные признаки.\n",
    "\n",
    "**Целевая переменная**: `median_house_value`\n",
    "\n",
    "**Признаки**: `longitude, latitude, housing_median_age, total_rooms, total_bedrooms, population, households,\tmedian_income`\n",
    "\n",
    "Признаки подаются на вход нейронной сети, на выходе сеть должна выдать значение целевой переменной - `median_house_value`"
   ]
  },
  {
   "cell_type": "code",
   "execution_count": 6,
   "metadata": {
    "execution": {
     "iopub.execute_input": "2023-03-25T10:46:56.677793Z",
     "iopub.status.busy": "2023-03-25T10:46:56.677012Z",
     "iopub.status.idle": "2023-03-25T10:46:56.680724Z",
     "shell.execute_reply": "2023-03-25T10:46:56.680244Z",
     "shell.execute_reply.started": "2023-03-25T10:43:28.760552Z"
    },
    "papermill": {
     "duration": 0.02386,
     "end_time": "2023-03-25T10:46:56.680844",
     "exception": false,
     "start_time": "2023-03-25T10:46:56.656984",
     "status": "completed"
    },
    "tags": []
   },
   "outputs": [],
   "source": [
    "\"\"\"Выделяем данные для обучения и преобразуем их в массивы numpy.\n",
    "Функция pop() возвращает нам указанный столбец и одновременно удаляет его из таблицы.\n",
    "Таким образом, когда мы присваиваем df_train в переменную x_train,\n",
    "там уже нет столбца с метками правильных ответов median_house_value \"\"\"\n",
    "y_train = train_df.pop('median_house_value').values\n",
    "x_train = train_df.values\n",
    "x_test = test_df.values"
   ]
  },
  {
   "cell_type": "code",
   "execution_count": 7,
   "metadata": {
    "execution": {
     "iopub.execute_input": "2023-03-25T10:46:56.718580Z",
     "iopub.status.busy": "2023-03-25T10:46:56.717666Z",
     "iopub.status.idle": "2023-03-25T10:46:56.721618Z",
     "shell.execute_reply": "2023-03-25T10:46:56.721114Z",
     "shell.execute_reply.started": "2023-03-25T10:43:28.769912Z"
    },
    "papermill": {
     "duration": 0.024026,
     "end_time": "2023-03-25T10:46:56.721732",
     "exception": false,
     "start_time": "2023-03-25T10:46:56.697706",
     "status": "completed"
    },
    "tags": []
   },
   "outputs": [
    {
     "data": {
      "text/plain": [
       "((17000, 8), (3000, 8))"
      ]
     },
     "execution_count": 7,
     "metadata": {},
     "output_type": "execute_result"
    }
   ],
   "source": [
    "\"\"\"Убедимся, что количество столбцов в данных совпадает\"\"\"\n",
    "x_train.shape, x_test.shape"
   ]
  },
  {
   "cell_type": "markdown",
   "metadata": {
    "papermill": {
     "duration": 0.016792,
     "end_time": "2023-03-25T10:46:56.755598",
     "exception": false,
     "start_time": "2023-03-25T10:46:56.738806",
     "status": "completed"
    },
    "tags": []
   },
   "source": [
    "**Стандартизация данных**\n",
    "\n",
    "Вычитаем среднее значение и делим на стандартное отклонение"
   ]
  },
  {
   "cell_type": "code",
   "execution_count": 8,
   "metadata": {
    "execution": {
     "iopub.execute_input": "2023-03-25T10:46:56.795447Z",
     "iopub.status.busy": "2023-03-25T10:46:56.794423Z",
     "iopub.status.idle": "2023-03-25T10:46:56.799045Z",
     "shell.execute_reply": "2023-03-25T10:46:56.798588Z",
     "shell.execute_reply.started": "2023-03-25T10:43:28.779919Z"
    },
    "papermill": {
     "duration": 0.026135,
     "end_time": "2023-03-25T10:46:56.799168",
     "exception": false,
     "start_time": "2023-03-25T10:46:56.773033",
     "status": "completed"
    },
    "tags": []
   },
   "outputs": [],
   "source": [
    "# Среднее значение\n",
    "mean = x_train.mean(axis=0)\n",
    "# Стандартное отклонение\n",
    "std = x_train.std(axis=0)\n",
    "x_train -= mean\n",
    "x_train /= std\n",
    "x_test -= mean\n",
    "x_test /= std"
   ]
  },
  {
   "cell_type": "markdown",
   "metadata": {
    "papermill": {
     "duration": 0.016958,
     "end_time": "2023-03-25T10:46:56.832963",
     "exception": false,
     "start_time": "2023-03-25T10:46:56.816005",
     "status": "completed"
    },
    "tags": []
   },
   "source": [
    "## Создаем нейронную сеть\n",
    "\n",
    "Выходной слой с одним линейным нейроном - для задачи регрессии функция активации - RELU."
   ]
  },
  {
   "cell_type": "code",
   "execution_count": 9,
   "metadata": {
    "execution": {
     "iopub.execute_input": "2023-03-25T10:46:56.871530Z",
     "iopub.status.busy": "2023-03-25T10:46:56.870910Z",
     "iopub.status.idle": "2023-03-25T10:46:59.378964Z",
     "shell.execute_reply": "2023-03-25T10:46:59.377875Z",
     "shell.execute_reply.started": "2023-03-25T10:43:28.791224Z"
    },
    "papermill": {
     "duration": 2.529499,
     "end_time": "2023-03-25T10:46:59.379138",
     "exception": false,
     "start_time": "2023-03-25T10:46:56.849639",
     "status": "completed"
    },
    "tags": []
   },
   "outputs": [],
   "source": [
    "model = Sequential()\n",
    "model.add(Dense(260, activation='relu', input_shape=(x_train.shape[1],)))\n",
    "model.add(Dense(150, activation='relu'))\n",
    "model.add(Dense(90, activation='relu'))\n",
    "model.add(Dense(45, activation='relu'))\n",
    "model.add(Dense(1, activation='relu'))"
   ]
  },
  {
   "cell_type": "code",
   "execution_count": 10,
   "metadata": {
    "execution": {
     "iopub.execute_input": "2023-03-25T10:46:59.417469Z",
     "iopub.status.busy": "2023-03-25T10:46:59.416635Z",
     "iopub.status.idle": "2023-03-25T10:46:59.421449Z",
     "shell.execute_reply": "2023-03-25T10:46:59.420848Z",
     "shell.execute_reply.started": "2023-03-25T10:43:28.839135Z"
    },
    "papermill": {
     "duration": 0.026726,
     "end_time": "2023-03-25T10:46:59.421604",
     "exception": false,
     "start_time": "2023-03-25T10:46:59.394878",
     "status": "completed"
    },
    "tags": []
   },
   "outputs": [
    {
     "name": "stdout",
     "output_type": "stream",
     "text": [
      "Model: \"sequential\"\n",
      "_________________________________________________________________\n",
      "Layer (type)                 Output Shape              Param #   \n",
      "=================================================================\n",
      "dense (Dense)                (None, 260)               2340      \n",
      "_________________________________________________________________\n",
      "dense_1 (Dense)              (None, 150)               39150     \n",
      "_________________________________________________________________\n",
      "dense_2 (Dense)              (None, 90)                13590     \n",
      "_________________________________________________________________\n",
      "dense_3 (Dense)              (None, 45)                4095      \n",
      "_________________________________________________________________\n",
      "dense_4 (Dense)              (None, 1)                 46        \n",
      "=================================================================\n",
      "Total params: 59,221\n",
      "Trainable params: 59,221\n",
      "Non-trainable params: 0\n",
      "_________________________________________________________________\n",
      "None\n"
     ]
    }
   ],
   "source": [
    "print(model.summary())"
   ]
  },
  {
   "cell_type": "markdown",
   "metadata": {
    "papermill": {
     "duration": 0.015419,
     "end_time": "2023-03-25T10:46:59.453502",
     "exception": false,
     "start_time": "2023-03-25T10:46:59.438083",
     "status": "completed"
    },
    "tags": []
   },
   "source": [
    "**Компилируем сеть**\n",
    "\n",
    "Функция ошибки - среднеквадратичное отклонение. Метрика - среднее абсолютное отклонение."
   ]
  },
  {
   "cell_type": "code",
   "execution_count": 11,
   "metadata": {
    "execution": {
     "iopub.execute_input": "2023-03-25T10:46:59.495191Z",
     "iopub.status.busy": "2023-03-25T10:46:59.493963Z",
     "iopub.status.idle": "2023-03-25T10:46:59.500489Z",
     "shell.execute_reply": "2023-03-25T10:46:59.499461Z",
     "shell.execute_reply.started": "2023-03-25T10:43:28.852982Z"
    },
    "papermill": {
     "duration": 0.031251,
     "end_time": "2023-03-25T10:46:59.500658",
     "exception": false,
     "start_time": "2023-03-25T10:46:59.469407",
     "status": "completed"
    },
    "tags": []
   },
   "outputs": [],
   "source": [
    "model.compile(optimizer='nadam', loss='mape', metrics=['mae'])"
   ]
  },
  {
   "cell_type": "markdown",
   "metadata": {
    "papermill": {
     "duration": 0.015518,
     "end_time": "2023-03-25T10:46:59.532132",
     "exception": false,
     "start_time": "2023-03-25T10:46:59.516614",
     "status": "completed"
    },
    "tags": []
   },
   "source": [
    "## Обучаем нейронную сеть"
   ]
  },
  {
   "cell_type": "code",
   "execution_count": 12,
   "metadata": {
    "execution": {
     "iopub.execute_input": "2023-03-25T10:46:59.566681Z",
     "iopub.status.busy": "2023-03-25T10:46:59.566096Z",
     "iopub.status.idle": "2023-03-25T10:49:49.127620Z",
     "shell.execute_reply": "2023-03-25T10:49:49.128315Z",
     "shell.execute_reply.started": "2023-03-25T10:43:28.868928Z"
    },
    "papermill": {
     "duration": 169.581141,
     "end_time": "2023-03-25T10:49:49.128548",
     "exception": false,
     "start_time": "2023-03-25T10:46:59.547407",
     "status": "completed"
    },
    "tags": []
   },
   "outputs": [
    {
     "name": "stdout",
     "output_type": "stream",
     "text": [
      "Epoch 1/100\n",
      "765/765 - 3s - loss: 43.7741 - mae: 95528.2188 - val_loss: 24.6611 - val_mae: 53396.3945\n",
      "Epoch 2/100\n",
      "765/765 - 2s - loss: 24.3096 - mae: 51254.3828 - val_loss: 22.6929 - val_mae: 49511.1445\n",
      "Epoch 3/100\n",
      "765/765 - 2s - loss: 23.2860 - mae: 48875.8789 - val_loss: 22.2336 - val_mae: 47644.7500\n",
      "Epoch 4/100\n",
      "765/765 - 2s - loss: 22.9195 - mae: 48060.4336 - val_loss: 22.3117 - val_mae: 46713.9375\n",
      "Epoch 5/100\n",
      "765/765 - 2s - loss: 22.6540 - mae: 47527.5742 - val_loss: 21.9323 - val_mae: 47741.4727\n",
      "Epoch 6/100\n",
      "765/765 - 2s - loss: 22.4161 - mae: 47053.9336 - val_loss: 22.0604 - val_mae: 48328.8945\n",
      "Epoch 7/100\n",
      "765/765 - 2s - loss: 22.2744 - mae: 46808.1523 - val_loss: 21.6954 - val_mae: 46999.7227\n",
      "Epoch 8/100\n",
      "765/765 - 2s - loss: 22.1101 - mae: 46509.0391 - val_loss: 21.4974 - val_mae: 46133.2227\n",
      "Epoch 9/100\n",
      "765/765 - 2s - loss: 21.9524 - mae: 46065.9531 - val_loss: 21.4700 - val_mae: 46931.7773\n",
      "Epoch 10/100\n",
      "765/765 - 2s - loss: 21.8111 - mae: 45821.2773 - val_loss: 21.1953 - val_mae: 46686.4805\n",
      "Epoch 11/100\n",
      "765/765 - 2s - loss: 21.6381 - mae: 45497.4453 - val_loss: 21.0229 - val_mae: 45465.1562\n",
      "Epoch 12/100\n",
      "765/765 - 2s - loss: 21.4777 - mae: 45225.6680 - val_loss: 20.8150 - val_mae: 44766.0664\n",
      "Epoch 13/100\n",
      "765/765 - 2s - loss: 21.3029 - mae: 44895.2539 - val_loss: 20.7242 - val_mae: 44549.5469\n",
      "Epoch 14/100\n",
      "765/765 - 2s - loss: 21.1033 - mae: 44593.5430 - val_loss: 20.5523 - val_mae: 44492.2383\n",
      "Epoch 15/100\n",
      "765/765 - 2s - loss: 20.9327 - mae: 44120.7148 - val_loss: 20.4363 - val_mae: 43812.5039\n",
      "Epoch 16/100\n",
      "765/765 - 2s - loss: 20.8139 - mae: 43855.5273 - val_loss: 20.4180 - val_mae: 44929.7383\n",
      "Epoch 17/100\n",
      "765/765 - 2s - loss: 20.6501 - mae: 43585.4102 - val_loss: 20.2283 - val_mae: 44166.3984\n",
      "Epoch 18/100\n",
      "765/765 - 2s - loss: 20.5088 - mae: 43271.9492 - val_loss: 20.1609 - val_mae: 43568.8555\n",
      "Epoch 19/100\n",
      "765/765 - 2s - loss: 20.3397 - mae: 42882.5859 - val_loss: 20.0914 - val_mae: 44141.5156\n",
      "Epoch 20/100\n",
      "765/765 - 2s - loss: 20.2218 - mae: 42620.8438 - val_loss: 19.9653 - val_mae: 43850.7305\n",
      "Epoch 21/100\n",
      "765/765 - 2s - loss: 20.0804 - mae: 42365.2070 - val_loss: 19.9443 - val_mae: 41800.0508\n",
      "Epoch 22/100\n",
      "765/765 - 2s - loss: 19.9983 - mae: 42084.2734 - val_loss: 19.6552 - val_mae: 41641.2109\n",
      "Epoch 23/100\n",
      "765/765 - 2s - loss: 19.8350 - mae: 41864.3516 - val_loss: 19.4944 - val_mae: 42246.9219\n",
      "Epoch 24/100\n",
      "765/765 - 2s - loss: 19.6877 - mae: 41551.9023 - val_loss: 19.4249 - val_mae: 41402.2227\n",
      "Epoch 25/100\n",
      "765/765 - 2s - loss: 19.6494 - mae: 41312.0625 - val_loss: 19.2998 - val_mae: 41404.7539\n",
      "Epoch 26/100\n",
      "765/765 - 2s - loss: 19.5343 - mae: 41102.3438 - val_loss: 19.1696 - val_mae: 41319.7891\n",
      "Epoch 27/100\n",
      "765/765 - 2s - loss: 19.4378 - mae: 40983.7695 - val_loss: 19.5332 - val_mae: 42038.3477\n",
      "Epoch 28/100\n",
      "765/765 - 2s - loss: 19.3547 - mae: 40664.4258 - val_loss: 19.4664 - val_mae: 40953.9141\n",
      "Epoch 29/100\n",
      "765/765 - 2s - loss: 19.2637 - mae: 40482.3203 - val_loss: 19.4619 - val_mae: 41292.6836\n",
      "Epoch 30/100\n",
      "765/765 - 2s - loss: 19.1869 - mae: 40374.7891 - val_loss: 19.0868 - val_mae: 41474.7734\n",
      "Epoch 31/100\n",
      "765/765 - 2s - loss: 19.0790 - mae: 40202.3281 - val_loss: 19.3275 - val_mae: 41220.6016\n",
      "Epoch 32/100\n",
      "765/765 - 2s - loss: 19.0058 - mae: 40031.4961 - val_loss: 18.7428 - val_mae: 39836.6211\n",
      "Epoch 33/100\n",
      "765/765 - 2s - loss: 18.9190 - mae: 39791.1211 - val_loss: 19.1932 - val_mae: 39123.4570\n",
      "Epoch 34/100\n",
      "765/765 - 2s - loss: 18.8495 - mae: 39629.2461 - val_loss: 18.6530 - val_mae: 40039.2383\n",
      "Epoch 35/100\n",
      "765/765 - 2s - loss: 18.8123 - mae: 39499.1094 - val_loss: 18.6484 - val_mae: 39067.0039\n",
      "Epoch 36/100\n",
      "765/765 - 2s - loss: 18.7366 - mae: 39367.8906 - val_loss: 18.7965 - val_mae: 39449.7383\n",
      "Epoch 37/100\n",
      "765/765 - 2s - loss: 18.6836 - mae: 39189.5938 - val_loss: 18.6603 - val_mae: 38828.0898\n",
      "Epoch 38/100\n",
      "765/765 - 2s - loss: 18.5988 - mae: 39127.6836 - val_loss: 18.5463 - val_mae: 39620.9414\n",
      "Epoch 39/100\n",
      "765/765 - 2s - loss: 18.4908 - mae: 38822.6875 - val_loss: 18.5069 - val_mae: 39580.9141\n",
      "Epoch 40/100\n",
      "765/765 - 2s - loss: 18.5111 - mae: 38823.0859 - val_loss: 18.4684 - val_mae: 39065.6641\n",
      "Epoch 41/100\n",
      "765/765 - 2s - loss: 18.4165 - mae: 38631.9727 - val_loss: 18.2837 - val_mae: 38815.6094\n",
      "Epoch 42/100\n",
      "765/765 - 2s - loss: 18.4202 - mae: 38630.3672 - val_loss: 18.5881 - val_mae: 38502.7461\n",
      "Epoch 43/100\n",
      "765/765 - 2s - loss: 18.3600 - mae: 38529.8789 - val_loss: 18.3086 - val_mae: 38527.8242\n",
      "Epoch 44/100\n",
      "765/765 - 2s - loss: 18.3134 - mae: 38291.4062 - val_loss: 18.9686 - val_mae: 41258.5508\n",
      "Epoch 45/100\n",
      "765/765 - 2s - loss: 18.2869 - mae: 38301.0312 - val_loss: 18.2876 - val_mae: 38702.7578\n",
      "Epoch 46/100\n",
      "765/765 - 2s - loss: 18.2077 - mae: 38198.1328 - val_loss: 18.6671 - val_mae: 40309.7031\n",
      "Epoch 47/100\n",
      "765/765 - 2s - loss: 18.1782 - mae: 38117.2734 - val_loss: 18.1646 - val_mae: 38402.2891\n",
      "Epoch 48/100\n",
      "765/765 - 2s - loss: 18.0981 - mae: 37897.6367 - val_loss: 18.1638 - val_mae: 38730.7188\n",
      "Epoch 49/100\n",
      "765/765 - 2s - loss: 18.1273 - mae: 37917.5352 - val_loss: 18.3255 - val_mae: 37914.3594\n",
      "Epoch 50/100\n",
      "765/765 - 2s - loss: 18.0207 - mae: 37749.6758 - val_loss: 18.3749 - val_mae: 37883.4648\n",
      "Epoch 51/100\n",
      "765/765 - 2s - loss: 17.9964 - mae: 37703.6875 - val_loss: 18.1437 - val_mae: 38313.8438\n",
      "Epoch 52/100\n",
      "765/765 - 2s - loss: 17.9493 - mae: 37571.4219 - val_loss: 19.0588 - val_mae: 37290.1016\n",
      "Epoch 53/100\n",
      "765/765 - 2s - loss: 17.8929 - mae: 37516.7344 - val_loss: 18.5124 - val_mae: 38146.1250\n",
      "Epoch 54/100\n",
      "765/765 - 2s - loss: 17.9401 - mae: 37590.1875 - val_loss: 18.3501 - val_mae: 38983.2344\n",
      "Epoch 55/100\n",
      "765/765 - 2s - loss: 17.8303 - mae: 37289.8398 - val_loss: 18.0888 - val_mae: 38360.7656\n",
      "Epoch 56/100\n",
      "765/765 - 2s - loss: 17.8728 - mae: 37353.0234 - val_loss: 18.3364 - val_mae: 38462.7070\n",
      "Epoch 57/100\n",
      "765/765 - 2s - loss: 17.8283 - mae: 37243.6523 - val_loss: 18.2736 - val_mae: 37185.6484\n",
      "Epoch 58/100\n",
      "765/765 - 2s - loss: 17.7594 - mae: 37103.6523 - val_loss: 18.0668 - val_mae: 39283.0977\n",
      "Epoch 59/100\n",
      "765/765 - 2s - loss: 17.7272 - mae: 37031.9180 - val_loss: 18.3250 - val_mae: 39542.6016\n",
      "Epoch 60/100\n",
      "765/765 - 2s - loss: 17.6916 - mae: 36980.1250 - val_loss: 17.7444 - val_mae: 37430.7734\n",
      "Epoch 61/100\n",
      "765/765 - 2s - loss: 17.6615 - mae: 36939.5000 - val_loss: 17.8820 - val_mae: 37133.4219\n",
      "Epoch 62/100\n",
      "765/765 - 2s - loss: 17.6695 - mae: 36960.9258 - val_loss: 17.8056 - val_mae: 36533.9375\n",
      "Epoch 63/100\n",
      "765/765 - 2s - loss: 17.6378 - mae: 36859.8164 - val_loss: 18.3772 - val_mae: 36542.3477\n",
      "Epoch 64/100\n",
      "765/765 - 2s - loss: 17.5785 - mae: 36756.8555 - val_loss: 17.8758 - val_mae: 36418.2344\n",
      "Epoch 65/100\n",
      "765/765 - 2s - loss: 17.5119 - mae: 36634.3711 - val_loss: 17.8091 - val_mae: 37721.7539\n",
      "Epoch 66/100\n",
      "765/765 - 2s - loss: 17.5181 - mae: 36677.8867 - val_loss: 17.6857 - val_mae: 37513.3398\n",
      "Epoch 67/100\n",
      "765/765 - 2s - loss: 17.4878 - mae: 36547.4336 - val_loss: 17.6798 - val_mae: 36909.4180\n",
      "Epoch 68/100\n",
      "765/765 - 2s - loss: 17.4299 - mae: 36496.7500 - val_loss: 17.7318 - val_mae: 36998.5547\n",
      "Epoch 69/100\n",
      "765/765 - 2s - loss: 17.3911 - mae: 36411.5039 - val_loss: 17.4414 - val_mae: 37008.3711\n",
      "Epoch 70/100\n",
      "765/765 - 2s - loss: 17.3760 - mae: 36365.8125 - val_loss: 17.4855 - val_mae: 36361.2539\n",
      "Epoch 71/100\n",
      "765/765 - 2s - loss: 17.3953 - mae: 36287.3047 - val_loss: 17.7402 - val_mae: 37022.2148\n",
      "Epoch 72/100\n",
      "765/765 - 2s - loss: 17.3276 - mae: 36274.8125 - val_loss: 17.6945 - val_mae: 37588.8008\n",
      "Epoch 73/100\n",
      "765/765 - 2s - loss: 17.3043 - mae: 36159.2070 - val_loss: 17.7031 - val_mae: 37263.6641\n",
      "Epoch 74/100\n",
      "765/765 - 2s - loss: 17.2489 - mae: 36130.8672 - val_loss: 17.4788 - val_mae: 36580.5273\n",
      "Epoch 75/100\n",
      "765/765 - 2s - loss: 17.2115 - mae: 36016.3516 - val_loss: 17.2816 - val_mae: 36213.9453\n",
      "Epoch 76/100\n",
      "765/765 - 2s - loss: 17.2355 - mae: 36123.3398 - val_loss: 17.3780 - val_mae: 36507.1758\n",
      "Epoch 77/100\n",
      "765/765 - 2s - loss: 17.2373 - mae: 35898.5938 - val_loss: 17.5986 - val_mae: 35944.8125\n",
      "Epoch 78/100\n",
      "765/765 - 2s - loss: 17.1725 - mae: 35952.2383 - val_loss: 17.3487 - val_mae: 35936.1758\n",
      "Epoch 79/100\n",
      "765/765 - 2s - loss: 17.1191 - mae: 35807.3984 - val_loss: 17.3217 - val_mae: 36621.0781\n",
      "Epoch 80/100\n",
      "765/765 - 2s - loss: 17.0805 - mae: 35758.8164 - val_loss: 17.1652 - val_mae: 35816.5508\n",
      "Epoch 81/100\n",
      "765/765 - 2s - loss: 17.1089 - mae: 35654.9922 - val_loss: 17.2674 - val_mae: 35860.9453\n",
      "Epoch 82/100\n",
      "765/765 - 2s - loss: 17.0681 - mae: 35712.9297 - val_loss: 17.2744 - val_mae: 35343.3086\n",
      "Epoch 83/100\n",
      "765/765 - 2s - loss: 17.0250 - mae: 35546.3672 - val_loss: 17.5003 - val_mae: 36609.4414\n",
      "Epoch 84/100\n",
      "765/765 - 2s - loss: 16.9795 - mae: 35545.3047 - val_loss: 17.1711 - val_mae: 36267.1562\n",
      "Epoch 85/100\n",
      "765/765 - 2s - loss: 17.0154 - mae: 35597.9258 - val_loss: 17.5775 - val_mae: 36217.4102\n",
      "Epoch 86/100\n",
      "765/765 - 2s - loss: 16.9844 - mae: 35558.7188 - val_loss: 17.1100 - val_mae: 36619.8594\n",
      "Epoch 87/100\n",
      "765/765 - 2s - loss: 16.9477 - mae: 35424.9609 - val_loss: 17.0082 - val_mae: 35547.9531\n",
      "Epoch 88/100\n",
      "765/765 - 2s - loss: 16.8913 - mae: 35350.2188 - val_loss: 17.0651 - val_mae: 35121.5703\n",
      "Epoch 89/100\n",
      "765/765 - 2s - loss: 16.9389 - mae: 35336.5938 - val_loss: 17.0610 - val_mae: 35310.0508\n",
      "Epoch 90/100\n",
      "765/765 - 2s - loss: 16.9430 - mae: 35438.1719 - val_loss: 16.9411 - val_mae: 35788.1602\n",
      "Epoch 91/100\n",
      "765/765 - 2s - loss: 16.8989 - mae: 35320.1641 - val_loss: 16.9979 - val_mae: 35817.7891\n",
      "Epoch 92/100\n",
      "765/765 - 2s - loss: 16.8883 - mae: 35245.3320 - val_loss: 17.3515 - val_mae: 34888.3789\n",
      "Epoch 93/100\n",
      "765/765 - 2s - loss: 16.8469 - mae: 35254.8633 - val_loss: 17.1110 - val_mae: 36736.9805\n",
      "Epoch 94/100\n",
      "765/765 - 2s - loss: 16.8184 - mae: 35204.6758 - val_loss: 17.1278 - val_mae: 35170.6172\n",
      "Epoch 95/100\n",
      "765/765 - 2s - loss: 16.7997 - mae: 35193.0781 - val_loss: 16.8718 - val_mae: 35275.7461\n",
      "Epoch 96/100\n",
      "765/765 - 2s - loss: 16.7855 - mae: 34969.0742 - val_loss: 16.8491 - val_mae: 34706.1562\n",
      "Epoch 97/100\n",
      "765/765 - 2s - loss: 16.7629 - mae: 34974.3359 - val_loss: 17.4470 - val_mae: 35410.3047\n",
      "Epoch 98/100\n",
      "765/765 - 2s - loss: 16.7667 - mae: 35029.4141 - val_loss: 17.1671 - val_mae: 34631.6758\n",
      "Epoch 99/100\n",
      "765/765 - 2s - loss: 16.7522 - mae: 34982.8594 - val_loss: 17.0760 - val_mae: 36214.9609\n",
      "Epoch 100/100\n",
      "765/765 - 2s - loss: 16.7180 - mae: 35042.9062 - val_loss: 16.8136 - val_mae: 34638.4727\n"
     ]
    }
   ],
   "source": [
    "history = model.fit(x_train, \n",
    "                    y_train,\n",
    "                    batch_size=20, \n",
    "                    epochs=100, \n",
    "                    validation_split=0.1, \n",
    "                    verbose=2)"
   ]
  },
  {
   "cell_type": "markdown",
   "metadata": {
    "papermill": {
     "duration": 0.063044,
     "end_time": "2023-03-25T10:49:49.256803",
     "exception": false,
     "start_time": "2023-03-25T10:49:49.193759",
     "status": "completed"
    },
    "tags": []
   },
   "source": [
    "## Визуализация качества обучения"
   ]
  },
  {
   "cell_type": "code",
   "execution_count": 13,
   "metadata": {
    "execution": {
     "iopub.execute_input": "2023-03-25T10:49:49.397686Z",
     "iopub.status.busy": "2023-03-25T10:49:49.396852Z",
     "iopub.status.idle": "2023-03-25T10:49:49.592127Z",
     "shell.execute_reply": "2023-03-25T10:49:49.591662Z",
     "shell.execute_reply.started": "2023-03-25T10:46:22.486555Z"
    },
    "papermill": {
     "duration": 0.271579,
     "end_time": "2023-03-25T10:49:49.592264",
     "exception": false,
     "start_time": "2023-03-25T10:49:49.320685",
     "status": "completed"
    },
    "tags": []
   },
   "outputs": [
    {
     "data": {
      "image/png": "[encoded data removed]",
      "text/plain": [
       "<Figure size 432x288 with 1 Axes>"
      ]
     },
     "metadata": {
      "needs_background": "light"
     },
     "output_type": "display_data"
    }
   ],
   "source": [
    "plt.plot(history.history['mae'], \n",
    "         label='Средняя абсолютная ошибка на обучающем наборе')\n",
    "plt.plot(history.history['val_mae'], \n",
    "         label='Средняя абсолютная ошибка на проверочном наборе')\n",
    "plt.xlabel('Эпоха обучения')\n",
    "plt.ylabel('Средняя абсолютная ошибка')\n",
    "plt.legend()\n",
    "plt.show()"
   ]
  },
  {
   "cell_type": "markdown",
   "metadata": {
    "papermill": {
     "duration": 0.064581,
     "end_time": "2023-03-25T10:49:49.725236",
     "exception": false,
     "start_time": "2023-03-25T10:49:49.660655",
     "status": "completed"
    },
    "tags": []
   },
   "source": [
    "## Готовим данные для теста на liderboard"
   ]
  },
  {
   "cell_type": "markdown",
   "metadata": {
    "papermill": {
     "duration": 0.064091,
     "end_time": "2023-03-25T10:49:49.855847",
     "exception": false,
     "start_time": "2023-03-25T10:49:49.791756",
     "status": "completed"
    },
    "tags": []
   },
   "source": [
    "Делаем предсказания на тестовом наборе данных"
   ]
  },
  {
   "cell_type": "code",
   "execution_count": 14,
   "metadata": {
    "execution": {
     "iopub.execute_input": "2023-03-25T10:49:49.991319Z",
     "iopub.status.busy": "2023-03-25T10:49:49.990488Z",
     "iopub.status.idle": "2023-03-25T10:49:50.174500Z",
     "shell.execute_reply": "2023-03-25T10:49:50.173241Z",
     "shell.execute_reply.started": "2023-03-25T10:46:22.660342Z"
    },
    "papermill": {
     "duration": 0.253412,
     "end_time": "2023-03-25T10:49:50.174681",
     "exception": false,
     "start_time": "2023-03-25T10:49:49.921269",
     "status": "completed"
    },
    "tags": []
   },
   "outputs": [
    {
     "data": {
      "text/plain": [
       "array([[ 56548.844],\n",
       "       [ 65943.27 ],\n",
       "       [ 60618.156],\n",
       "       ...,\n",
       "       [297554.94 ],\n",
       "       [ 66698.18 ],\n",
       "       [ 74871.66 ]], dtype=float32)"
      ]
     },
     "execution_count": 14,
     "metadata": {},
     "output_type": "execute_result"
    }
   ],
   "source": [
    "\"\"\"делаем предсказания по всем тестовым данным\"\"\"\n",
    "predictions = model.predict(x_test)\n",
    "predictions"
   ]
  },
  {
   "cell_type": "markdown",
   "metadata": {
    "papermill": {
     "duration": 0.064245,
     "end_time": "2023-03-25T10:49:50.311566",
     "exception": false,
     "start_time": "2023-03-25T10:49:50.247321",
     "status": "completed"
    },
    "tags": []
   },
   "source": [
    "Пишем результаты предсказаний в шаблон \"sample_submission\""
   ]
  },
  {
   "cell_type": "code",
   "execution_count": 15,
   "metadata": {
    "execution": {
     "iopub.execute_input": "2023-03-25T10:49:50.444488Z",
     "iopub.status.busy": "2023-03-25T10:49:50.443857Z",
     "iopub.status.idle": "2023-03-25T10:49:50.447225Z",
     "shell.execute_reply": "2023-03-25T10:49:50.447948Z",
     "shell.execute_reply.started": "2023-03-25T10:46:22.914709Z"
    },
    "papermill": {
     "duration": 0.072868,
     "end_time": "2023-03-25T10:49:50.448107",
     "exception": false,
     "start_time": "2023-03-25T10:49:50.375239",
     "status": "completed"
    },
    "tags": []
   },
   "outputs": [],
   "source": [
    "\"\"\"используем файл с правильным шаблоном формата записи ответов и пишем в него наши предсказания\"\"\"\n",
    "sample_submission['median_house_value'] = predictions"
   ]
  },
  {
   "cell_type": "markdown",
   "metadata": {
    "papermill": {
     "duration": 0.064162,
     "end_time": "2023-03-25T10:49:50.583063",
     "exception": false,
     "start_time": "2023-03-25T10:49:50.518901",
     "status": "completed"
    },
    "tags": []
   },
   "source": [
    "Записываем ответы для проверки на liderboard"
   ]
  },
  {
   "cell_type": "code",
   "execution_count": 16,
   "metadata": {
    "execution": {
     "iopub.execute_input": "2023-03-25T10:49:50.721570Z",
     "iopub.status.busy": "2023-03-25T10:49:50.720713Z",
     "iopub.status.idle": "2023-03-25T10:49:50.831117Z",
     "shell.execute_reply": "2023-03-25T10:49:50.830634Z",
     "shell.execute_reply.started": "2023-03-25T10:46:22.928777Z"
    },
    "papermill": {
     "duration": 0.181395,
     "end_time": "2023-03-25T10:49:50.831265",
     "exception": false,
     "start_time": "2023-03-25T10:49:50.649870",
     "status": "completed"
    },
    "tags": []
   },
   "outputs": [],
   "source": [
    "\"\"\"to_csv - пишет табличные данные в файл '.csv' \"\"\"\n",
    "sample_submission.to_csv('sample_submission.csv')"
   ]
  }
 ],
 "metadata": {
  "kernelspec": {
   "display_name": "Python 3",
   "language": "python",
   "name": "python3"
  },
  "language_info": {
   "codemirror_mode": {
    "name": "ipython",
    "version": 3
   },
   "file_extension": ".py",
   "mimetype": "text/x-python",
   "name": "python",
   "nbconvert_exporter": "python",
   "pygments_lexer": "ipython3",
   "version": "3.7.9"
  },
  "papermill": {
   "default_parameters": {},
   "duration": 185.303144,
   "end_time": "2023-03-25T10:49:52.007448",
   "environment_variables": {},
   "exception": null,
   "input_path": "__notebook__.ipynb",
   "output_path": "__notebook__.ipynb",
   "parameters": {},
   "start_time": "2023-03-25T10:46:46.704304",
   "version": "2.2.2"
  }
 },
 "nbformat": 4,
 "nbformat_minor": 4
}
